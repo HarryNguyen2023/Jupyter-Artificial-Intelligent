{
 "cells": [
  {
   "cell_type": "markdown",
   "metadata": {},
   "source": [
    "Name: Nguyễn Lâm Vĩnh Gia - ID: 2052074\n",
    "\n",
    "# OBJECT COORDINATE DETECTION IN BINARY IMAGE\n",
    "\n",
    "In this context, we are going to detect the coordinate of an workpiece object in the image using openCV library.\n",
    "\n",
    "## 1. Import image"
   ]
  },
  {
   "cell_type": "code",
   "execution_count": 2,
   "metadata": {},
   "outputs": [],
   "source": [
    "import cv2\n",
    "import matplotlib.pyplot as plt\n",
    "\n",
    "img_path = r\"C:\\Studying Documents\\Artificial intelligient\\phoi.jpg\"\n",
    "img_origin = cv2.imread(img_path)\n",
    "cv2.imshow(\"Phoi image\", img_origin)\n",
    "cv2.waitKey(0)\n",
    "cv2.destroyAllWindows()"
   ]
  },
  {
   "cell_type": "markdown",
   "metadata": {},
   "source": [
    "## 2. Convert BGR to grayscale image and thresholding\n",
    "\n",
    "As the image includes many noise, we need to extract these noise from image before we can search for the edge"
   ]
  },
  {
   "cell_type": "code",
   "execution_count": 4,
   "metadata": {},
   "outputs": [],
   "source": [
    "img_gray = cv2.cvtColor(img_origin, cv2.COLOR_BGR2GRAY)\n",
    "cv2.imshow(\"Gray image\", img_gray)\n",
    "cv2.waitKey(0)\n",
    "cv2.destroyAllWindows()"
   ]
  },
  {
   "cell_type": "markdown",
   "metadata": {},
   "source": [
    "## 3. Detect edges\n",
    "\n",
    "In image processing, there are many edge detection algorithm, but Canny has proved to be one of the most reliable methods for extracting edges in graysclae image."
   ]
  },
  {
   "cell_type": "code",
   "execution_count": 11,
   "metadata": {},
   "outputs": [],
   "source": [
    "img_edges = cv2.Canny(img_gray, 50, 240, apertureSize=5)\n",
    "cv2.imshow(\"Edges image\", img_edges)\n",
    "cv2.waitKey(0)\n",
    "cv2.destroyAllWindows()"
   ]
  }
 ],
 "metadata": {
  "kernelspec": {
   "display_name": "base",
   "language": "python",
   "name": "python3"
  },
  "language_info": {
   "codemirror_mode": {
    "name": "ipython",
    "version": 3
   },
   "file_extension": ".py",
   "mimetype": "text/x-python",
   "name": "python",
   "nbconvert_exporter": "python",
   "pygments_lexer": "ipython3",
   "version": "3.11.4"
  }
 },
 "nbformat": 4,
 "nbformat_minor": 2
}
