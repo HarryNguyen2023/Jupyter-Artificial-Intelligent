{
 "cells": [
  {
   "cell_type": "markdown",
   "metadata": {},
   "source": [
    "Name: Nguyễn Lâm Vĩnh Gia\n",
    "\n",
    "# LOGISTIC REGRESSION\n",
    "\n",
    "## 1. Standardization\n",
    "\n",
    "For data with multiple attributes, standardization to scale the data around their mean is a important pre-processing step to avoid weighted effect on machine learning model."
   ]
  },
  {
   "cell_type": "code",
   "execution_count": 93,
   "metadata": {},
   "outputs": [
    {
     "name": "stdout",
     "output_type": "stream",
     "text": [
      "[[5.1 3.5 1.4 0.2]\n",
      " [4.9 3.  1.4 0.2]\n",
      " [4.7 3.2 1.3 0.2]\n",
      " [4.6 3.1 1.5 0.2]\n",
      " [5.  3.6 1.4 0.2]\n",
      " [5.4 3.9 1.7 0.4]\n",
      " [4.6 3.4 1.4 0.3]\n",
      " [5.  3.4 1.5 0.2]\n",
      " [4.4 2.9 1.4 0.2]\n",
      " [4.9 3.1 1.5 0.1]]\n"
     ]
    }
   ],
   "source": [
    "import numpy as np\n",
    "from sklearn.datasets import load_iris\n",
    "\n",
    "# Function for standardization of data attributes\n",
    "def standardization(X_train):\n",
    "    for i in range(np.shape(X_train)[1]):\n",
    "        X_train[:,i] = (X_train[:,i] - np.mean(X_train[:,i])) / np.std(X_train[:,i])\n",
    "\n",
    "# Function to initiate data system for matrix multiplication\n",
    "def initialization(X_train):\n",
    "    # Initiate the weight vector\n",
    "    weight = np.zeros((np.shape(X_train)[1] + 1, 1))\n",
    "    # Concatenate a column of 1 for matrix multiplication of X and weight vector + intercept\n",
    "    X_train = np.c_[np.ones((np.shape(X_train)[0], 1)), X_train]\n",
    "    return weight, X_train\n",
    "\n",
    "# Load Iris data   \n",
    "iris = load_iris()\n",
    "iris_data = iris.data[:100]\n",
    "iris_target = iris.target[:100]\n",
    "\n",
    "print(iris_data[:10,:])"
   ]
  },
  {
   "cell_type": "markdown",
   "metadata": {},
   "source": [
    "## 2. Sigmoid function\n",
    "\n",
    "Different from linear regression, logistic regression is used for classification of binary of multinomial classes. Thus, we need a function that can generate the result in the range between [0,1], which makes sigmoid or S-curve function an appropriate choice. \n",
    "\n",
    "$$ y = \\frac{1}{1 + e^{-z}} $$\n",
    "$$ z = B_{0} + B_{1}x_{1} + B_{2}x_{2} + ... + B_{n}x_{n} $$"
   ]
  },
  {
   "cell_type": "code",
   "execution_count": 94,
   "metadata": {},
   "outputs": [],
   "source": [
    "def sigmoid(z):\n",
    "    sig = 1 / (1 + np.exp(-z))\n",
    "    return sig"
   ]
  },
  {
   "cell_type": "markdown",
   "metadata": {},
   "source": [
    "## 3. Cost function\n",
    "\n",
    "Instead of the MSE used in linear regression, the logistic use the cross entropy loss function to find the most suitable weighted factors and intercept of the model which fit the data the best. The idea of the cost function in Logistic Regression is that when a true prediction is made we will set that to 1 and 0 otherwise, which looks alike the Bernoulli distribution.\n",
    "\n",
    "$$ L_{CE}(\\hat{y},y) = - [ylog\\sigma{(w.x + b)} + (1 - y)log(1 - \\sigma{(w.x + b)})] $$\n",
    "\n",
    "However, for optimization of computation, we will use the mini-batch training to faster convergence of the gradient descent algorithm for finding the weights and intercept. Thus, the cost function for mini-batch training is\n",
    "\n",
    "$$ L_{CE}(\\hat{y},y) = - \\frac{1}{m}\\sum^{m}_{i = 1}[y^{i}log\\sigma{(w.x^{i} + b)} + (1 - y^{i})log(1 - \\sigma{(w.x^{i} + b)})] $$"
   ]
  },
  {
   "cell_type": "code",
   "execution_count": 95,
   "metadata": {},
   "outputs": [],
   "source": [
    "def cost(X,y,w):\n",
    "    z = np.dot(X, w)\n",
    "    cost0 = np.dot(y.T, np.log(sigmoid(z)))\n",
    "    cost1 = np.dot((1 - y).T, np.log(1 - sigmoid(z)))\n",
    "    cost = - (cost0 + cost1) / len(y)\n",
    "    return cost"
   ]
  },
  {
   "cell_type": "markdown",
   "metadata": {},
   "source": [
    "## 4. Gradient Descent\n",
    "\n",
    "Gradient Descent is the optimization algorithm that is used to find the local minimum of the convex cost function (function which has only one local minimum). By taking the derivative of the cost function and iteratively calculate the slope of the current point value, the Gradient Descent will move closer and close to the actual local minimum, and the developer must decide the jump of each calculation, as well as the number of iteration for fastest convergence to the local minimum. The Gradient Descent equation of the mini-batch training Logistic Regression can be computed by taking the partial derivative of each weight and intercept\n",
    "\n",
    "$$ \\frac{dCost(\\hat{y},y)}{dw} = \\frac{1}{m}(\\sigma{(w.x + b)} - y)^{T}X $$"
   ]
  },
  {
   "cell_type": "code",
   "execution_count": 96,
   "metadata": {},
   "outputs": [],
   "source": [
    "def fit(X, y, alpha = 0.001, iter = 400):\n",
    "    weight, X = initialization(X)\n",
    "    cost_list = np.zeros(iter, 1)\n",
    "    for i in range(iter):\n",
    "        weight = weight - alpha * np.dot(X.T, sigmoid(np.dot(X, weight)) - np.reshape(y, ((len(y), 1))))\n",
    "        cost_list[i] = cost(weight)\n",
    "    return weight"
   ]
  },
  {
   "cell_type": "markdown",
   "metadata": {},
   "source": [
    "## 5. Prediction\n",
    "\n",
    "The prediction of Logistic Regression for binary case is very simple, in which \n",
    "\n",
    "$$ decision(x) = \\begin{matrix}\n",
    "1, P(y = 1|x) > 0.5 \\\\\n",
    "0, otherwise\n",
    "\\end{matrix} $$"
   ]
  },
  {
   "cell_type": "code",
   "execution_count": 97,
   "metadata": {},
   "outputs": [],
   "source": [
    "def predict(X_test, w):\n",
    "    z = np.dot(initialization(X_test)[1], w)\n",
    "    lis = list()\n",
    "    for i in sigmoid(z):\n",
    "        if i > 0.5:\n",
    "            lis.append(1)\n",
    "        else:\n",
    "            lis.append(0)\n",
    "    return lis"
   ]
  },
  {
   "cell_type": "markdown",
   "metadata": {},
   "source": [
    "## 6. Object-oriented\n",
    "\n",
    "Put all those code together into a class"
   ]
  },
  {
   "cell_type": "code",
   "execution_count": 98,
   "metadata": {},
   "outputs": [],
   "source": [
    "class LogisticRegression():\n",
    "    # Constructor\n",
    "    def __init__(self) -> None:\n",
    "        pass\n",
    "\n",
    "    # Function to initiate the vectors\n",
    "    def __initialization(self, X):\n",
    "        # Initiate the weight vector\n",
    "        weight = np.zeros((np.shape(X)[1] + 1, 1))\n",
    "        # Concatenate a column of 1 for matrix multiplication of X and weight vector + intercept\n",
    "        X = np.c_[np.ones((np.shape(X)[0], 1)), X]\n",
    "        return weight, X\n",
    "    \n",
    "    # Function to calculate the sigmoid function\n",
    "    def __sigmoid(self, z):\n",
    "        sig = 1 / (1 + np.exp(-z))\n",
    "        return sig\n",
    "    \n",
    "    # Cost function\n",
    "    def __cost(self, X, y, w):\n",
    "        z = np.dot(X, w)\n",
    "        cost0 = np.dot(y.T, np.log(self.__sigmoid(z)))\n",
    "        cost1 = np.dot((1 - y).T, np.log(1 - self.__sigmoid(z)))\n",
    "        cost = - (cost0 + cost1) / len(y)\n",
    "        return cost\n",
    "\n",
    "    # Funtion to perform Gradient Descent\n",
    "    def fit(self, X, y, alpha = 0.001, iter = 400):\n",
    "        weight, X = self.__initialization(X)\n",
    "        cost_list = np.zeros(iter,)\n",
    "        for i in range(iter):\n",
    "            weight = weight - alpha * np.dot(X.T, self.__sigmoid(np.dot(X, weight)) - np.reshape(y, ((len(y), 1))))\n",
    "            cost_list[i] = self.__cost(X, y, weight)\n",
    "        self.weights = weight\n",
    "        return cost_list\n",
    "    \n",
    "    # Function for prediction\n",
    "    def predict(self, X_test):\n",
    "        z = np.dot(self.__initialization(X_test)[1], self.weights)\n",
    "        lis = list()\n",
    "        for i in self.__sigmoid(z):\n",
    "            if i > 0.5:\n",
    "                lis.append(1)\n",
    "            else:\n",
    "                lis.append(0)\n",
    "        return lis"
   ]
  },
  {
   "cell_type": "code",
   "execution_count": 99,
   "metadata": {},
   "outputs": [
    {
     "name": "stdout",
     "output_type": "stream",
     "text": [
      "The accuracy of the Logistic Regression: 1.0\n"
     ]
    },
    {
     "data": {
      "image/png": "[encoded data removed]",
      "text/plain": [
       "<Figure size 640x480 with 1 Axes>"
      ]
     },
     "metadata": {},
     "output_type": "display_data"
    }
   ],
   "source": [
    "from sklearn.model_selection import train_test_split\n",
    "from sklearn.metrics import accuracy_score\n",
    "import matplotlib.pyplot as plt\n",
    "\n",
    "X_train, X_test, y_train, y_test = train_test_split(iris_data, iris_target, train_size=0.6)\n",
    "\n",
    "standardization(X_train)\n",
    "standardization(X_test)\n",
    "\n",
    "log = LogisticRegression()\n",
    "model = log.fit(X_train, y_train)\n",
    "y_pred = log.predict(X_test)\n",
    "print(\"The accuracy of the Logistic Regression: {}\".format(accuracy_score(y_pred, y_test)))\n",
    "plt.plot(model)\n",
    "plt.title(\"Gradient Descent of the Loss Function in Logistic Regression\")\n",
    "plt.show()"
   ]
  }
 ],
 "metadata": {
  "kernelspec": {
   "display_name": "base",
   "language": "python",
   "name": "python3"
  },
  "language_info": {
   "codemirror_mode": {
    "name": "ipython",
    "version": 3
   },
   "file_extension": ".py",
   "mimetype": "text/x-python",
   "name": "python",
   "nbconvert_exporter": "python",
   "pygments_lexer": "ipython3",
   "version": "3.11.4"
  }
 },
 "nbformat": 4,
 "nbformat_minor": 2
}
