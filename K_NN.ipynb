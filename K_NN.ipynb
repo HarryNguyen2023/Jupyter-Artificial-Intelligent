{
 "cells": [
  {
   "cell_type": "markdown",
   "id": "7d2a94e2",
   "metadata": {},
   "source": [
    "Name: Nguyễn Lâm Vĩnh Gia - ID: 2052074\n",
    "\n",
    "# K_NN EXERCISE\n",
    "\n",
    "## Exercise 1: Select 2 feature petal.length and sepal.length, classify Versicolor and Setosa flower\n",
    "\n",
    "* Data preprocessing extract the necessary rows and columns"
   ]
  },
  {
   "cell_type": "code",
   "execution_count": 2,
   "id": "b18aa920",
   "metadata": {},
   "outputs": [
    {
     "name": "stdout",
     "output_type": "stream",
     "text": [
      "[[5.1, 1.4, 'Setosa'], [4.9, 1.4, 'Setosa'], [4.7, 1.3, 'Setosa'], [4.6, 1.5, 'Setosa'], [5.0, 1.4, 'Setosa'], [5.4, 1.7, 'Setosa'], [4.6, 1.4, 'Setosa'], [5.0, 1.5, 'Setosa'], [4.4, 1.4, 'Setosa'], [4.9, 1.5, 'Setosa'], [5.4, 1.5, 'Setosa'], [4.8, 1.6, 'Setosa'], [4.8, 1.4, 'Setosa'], [4.3, 1.1, 'Setosa'], [5.8, 1.2, 'Setosa'], [5.7, 1.5, 'Setosa'], [5.4, 1.3, 'Setosa'], [5.1, 1.4, 'Setosa'], [5.7, 1.7, 'Setosa'], [5.1, 1.5, 'Setosa'], [5.4, 1.7, 'Setosa'], [5.1, 1.5, 'Setosa'], [4.6, 1.0, 'Setosa'], [5.1, 1.7, 'Setosa'], [4.8, 1.9, 'Setosa'], [5.0, 1.6, 'Setosa'], [5.0, 1.6, 'Setosa'], [5.2, 1.5, 'Setosa'], [5.2, 1.4, 'Setosa'], [4.7, 1.6, 'Setosa'], [4.8, 1.6, 'Setosa'], [5.4, 1.5, 'Setosa'], [5.2, 1.5, 'Setosa'], [5.5, 1.4, 'Setosa'], [4.9, 1.5, 'Setosa'], [5.0, 1.2, 'Setosa'], [5.5, 1.3, 'Setosa'], [4.9, 1.4, 'Setosa'], [4.4, 1.3, 'Setosa'], [5.1, 1.5, 'Setosa'], [5.0, 1.3, 'Setosa'], [4.5, 1.3, 'Setosa'], [4.4, 1.3, 'Setosa'], [5.0, 1.6, 'Setosa'], [5.1, 1.9, 'Setosa'], [4.8, 1.4, 'Setosa'], [5.1, 1.6, 'Setosa'], [4.6, 1.4, 'Setosa'], [5.3, 1.5, 'Setosa'], [5.0, 1.4, 'Setosa'], [7.0, 4.7, 'Versicolor'], [6.4, 4.5, 'Versicolor'], [6.9, 4.9, 'Versicolor'], [5.5, 4.0, 'Versicolor'], [6.5, 4.6, 'Versicolor'], [5.7, 4.5, 'Versicolor'], [6.3, 4.7, 'Versicolor'], [4.9, 3.3, 'Versicolor'], [6.6, 4.6, 'Versicolor'], [5.2, 3.9, 'Versicolor'], [5.0, 3.5, 'Versicolor'], [5.9, 4.2, 'Versicolor'], [6.0, 4.0, 'Versicolor'], [6.1, 4.7, 'Versicolor'], [5.6, 3.6, 'Versicolor'], [6.7, 4.4, 'Versicolor'], [5.6, 4.5, 'Versicolor'], [5.8, 4.1, 'Versicolor'], [6.2, 4.5, 'Versicolor'], [5.6, 3.9, 'Versicolor'], [5.9, 4.8, 'Versicolor'], [6.1, 4.0, 'Versicolor'], [6.3, 4.9, 'Versicolor'], [6.1, 4.7, 'Versicolor'], [6.4, 4.3, 'Versicolor'], [6.6, 4.4, 'Versicolor'], [6.8, 4.8, 'Versicolor'], [6.7, 5.0, 'Versicolor'], [6.0, 4.5, 'Versicolor'], [5.7, 3.5, 'Versicolor'], [5.5, 3.8, 'Versicolor'], [5.5, 3.7, 'Versicolor'], [5.8, 3.9, 'Versicolor'], [6.0, 5.1, 'Versicolor'], [5.4, 4.5, 'Versicolor'], [6.0, 4.5, 'Versicolor'], [6.7, 4.7, 'Versicolor'], [6.3, 4.4, 'Versicolor'], [5.6, 4.1, 'Versicolor'], [5.5, 4.0, 'Versicolor'], [5.5, 4.4, 'Versicolor'], [6.1, 4.6, 'Versicolor'], [5.8, 4.0, 'Versicolor'], [5.0, 3.3, 'Versicolor'], [5.6, 4.2, 'Versicolor'], [5.7, 4.2, 'Versicolor'], [5.7, 4.2, 'Versicolor'], [6.2, 4.3, 'Versicolor'], [5.1, 3.0, 'Versicolor'], [5.7, 4.1, 'Versicolor']]\n"
     ]
    }
   ],
   "source": [
    "import pandas as pd\n",
    "\n",
    "# Read the CSV file\n",
    "file_path = r\"C:\\Studying Documents\\Artificial intelligient\\Exercise\\Dataset\\Iris.csv\"\n",
    "df = pd.read_csv(file_path, encoding=\"utf-8\")\n",
    "\n",
    "# Drop 2 unnecessary columns\n",
    "df.drop(['sepal.width', 'petal.width'], axis=1, inplace=True)\n",
    "\n",
    "# Get all the row belong to Versicolor and Setosa flower\n",
    "options = [\"Setosa\", \"Versicolor\"]\n",
    "flower_df = df[df['variety'].isin(options)]\n",
    "\n",
    "# Convert the data frame into the list of rows\n",
    "data_list = []\n",
    "for i in range(len(flower_df)):\n",
    "    data_list.append(flower_df.loc[i, :].values.flatten().tolist())\n",
    "    \n",
    "print(data_list)"
   ]
  },
  {
   "cell_type": "markdown",
   "id": "f07b2813",
   "metadata": {},
   "source": [
    "* The class to perform KNN algorithm with Iris dataset"
   ]
  },
  {
   "cell_type": "code",
   "execution_count": 2,
   "id": "164c795f",
   "metadata": {},
   "outputs": [],
   "source": [
    "from math import sqrt\n",
    "\n",
    "class KNN:\n",
    "    # Initiate the k value for the class and the number of feature of each class\n",
    "    def __init__(self, k):\n",
    "        self.k = k\n",
    "\n",
    "    # Function to calculate the Euclidean distance between the new point and the data points\n",
    "    def euclideanDistance(self, new_point, data_point):\n",
    "        dist = 0.0\n",
    "        for i in range(len(data_point) - 1):\n",
    "            dist += (new_point[i] - data_point[i]) ** 2\n",
    "        return sqrt(dist)\n",
    "    \n",
    "    # Function to find the k nearest neighbour\n",
    "    def getKNeighbour(self, new_point, data_frame):\n",
    "        distances = []\n",
    "        # Get the list of distances\n",
    "        for data in data_frame:\n",
    "            dist = self.euclideanDistance(new_point, data)\n",
    "            distances.append((dist, data[-1]))\n",
    "        # Get k smallest distance\n",
    "        return sorted(distances)[:self.k]\n",
    "    \n",
    "    # Function to classified the new point based on the dataset\n",
    "    def predictClassify(self, new_point, data_frame):\n",
    "        # Get k nearest neighbours\n",
    "        k_neighbours = self.getKNeighbour(new_point, data_frame)\n",
    "        # Get the count\n",
    "        class_output = [neighbour[-1] for neighbour in k_neighbours]\n",
    "        predict_class = max(set(class_output), key=class_output.count)\n",
    "        return predict_class"
   ]
  },
  {
   "cell_type": "markdown",
   "id": "9150df70",
   "metadata": {},
   "source": [
    "* Algorithm checking"
   ]
  },
  {
   "cell_type": "code",
   "execution_count": 3,
   "id": "6f33ec5f",
   "metadata": {},
   "outputs": [
    {
     "name": "stdout",
     "output_type": "stream",
     "text": [
      "The group of the 1 new data is Setosa\n",
      "The group of the 2 new data is Versicolor\n"
     ]
    }
   ],
   "source": [
    "new_data_1 = [4.7, 2]\n",
    "new_data_2 = [5.4, 3.7]\n",
    "# Define the KNN object\n",
    "knn = KNN(3)\n",
    "print(\"The group of the 1 new data is\", knn.predictClassify(new_data_1, data_list))\n",
    "print(\"The group of the 2 new data is\", knn.predictClassify(new_data_2, data_list))"
   ]
  },
  {
   "cell_type": "markdown",
   "id": "d32f109f",
   "metadata": {},
   "source": [
    "## Exercise 2: Use all 4 feature to classify 3 different types of flower in the dataset\n",
    "\n",
    "* Data preprocessing"
   ]
  },
  {
   "cell_type": "code",
   "execution_count": 2,
   "id": "44523675",
   "metadata": {},
   "outputs": [
    {
     "name": "stdout",
     "output_type": "stream",
     "text": [
      "[[5.1, 3.5, 1.4, 0.2, 'Setosa'], [4.9, 3.0, 1.4, 0.2, 'Setosa'], [4.7, 3.2, 1.3, 0.2, 'Setosa'], [4.6, 3.1, 1.5, 0.2, 'Setosa'], [5.0, 3.6, 1.4, 0.2, 'Setosa'], [5.4, 3.9, 1.7, 0.4, 'Setosa'], [4.6, 3.4, 1.4, 0.3, 'Setosa'], [5.0, 3.4, 1.5, 0.2, 'Setosa'], [4.4, 2.9, 1.4, 0.2, 'Setosa'], [4.9, 3.1, 1.5, 0.1, 'Setosa'], [5.4, 3.7, 1.5, 0.2, 'Setosa'], [4.8, 3.4, 1.6, 0.2, 'Setosa'], [4.8, 3.0, 1.4, 0.1, 'Setosa'], [4.3, 3.0, 1.1, 0.1, 'Setosa'], [5.8, 4.0, 1.2, 0.2, 'Setosa'], [5.7, 4.4, 1.5, 0.4, 'Setosa'], [5.4, 3.9, 1.3, 0.4, 'Setosa'], [5.1, 3.5, 1.4, 0.3, 'Setosa'], [5.7, 3.8, 1.7, 0.3, 'Setosa'], [5.1, 3.8, 1.5, 0.3, 'Setosa'], [5.4, 3.4, 1.7, 0.2, 'Setosa'], [5.1, 3.7, 1.5, 0.4, 'Setosa'], [4.6, 3.6, 1.0, 0.2, 'Setosa'], [5.1, 3.3, 1.7, 0.5, 'Setosa'], [4.8, 3.4, 1.9, 0.2, 'Setosa'], [5.0, 3.0, 1.6, 0.2, 'Setosa'], [5.0, 3.4, 1.6, 0.4, 'Setosa'], [5.2, 3.5, 1.5, 0.2, 'Setosa'], [5.2, 3.4, 1.4, 0.2, 'Setosa'], [4.7, 3.2, 1.6, 0.2, 'Setosa'], [4.8, 3.1, 1.6, 0.2, 'Setosa'], [5.4, 3.4, 1.5, 0.4, 'Setosa'], [5.2, 4.1, 1.5, 0.1, 'Setosa'], [5.5, 4.2, 1.4, 0.2, 'Setosa'], [4.9, 3.1, 1.5, 0.2, 'Setosa'], [5.0, 3.2, 1.2, 0.2, 'Setosa'], [5.5, 3.5, 1.3, 0.2, 'Setosa'], [4.9, 3.6, 1.4, 0.1, 'Setosa'], [4.4, 3.0, 1.3, 0.2, 'Setosa'], [5.1, 3.4, 1.5, 0.2, 'Setosa'], [5.0, 3.5, 1.3, 0.3, 'Setosa'], [4.5, 2.3, 1.3, 0.3, 'Setosa'], [4.4, 3.2, 1.3, 0.2, 'Setosa'], [5.0, 3.5, 1.6, 0.6, 'Setosa'], [5.1, 3.8, 1.9, 0.4, 'Setosa'], [4.8, 3.0, 1.4, 0.3, 'Setosa'], [5.1, 3.8, 1.6, 0.2, 'Setosa'], [4.6, 3.2, 1.4, 0.2, 'Setosa'], [5.3, 3.7, 1.5, 0.2, 'Setosa'], [5.0, 3.3, 1.4, 0.2, 'Setosa'], [7.0, 3.2, 4.7, 1.4, 'Versicolor'], [6.4, 3.2, 4.5, 1.5, 'Versicolor'], [6.9, 3.1, 4.9, 1.5, 'Versicolor'], [5.5, 2.3, 4.0, 1.3, 'Versicolor'], [6.5, 2.8, 4.6, 1.5, 'Versicolor'], [5.7, 2.8, 4.5, 1.3, 'Versicolor'], [6.3, 3.3, 4.7, 1.6, 'Versicolor'], [4.9, 2.4, 3.3, 1.0, 'Versicolor'], [6.6, 2.9, 4.6, 1.3, 'Versicolor'], [5.2, 2.7, 3.9, 1.4, 'Versicolor'], [5.0, 2.0, 3.5, 1.0, 'Versicolor'], [5.9, 3.0, 4.2, 1.5, 'Versicolor'], [6.0, 2.2, 4.0, 1.0, 'Versicolor'], [6.1, 2.9, 4.7, 1.4, 'Versicolor'], [5.6, 2.9, 3.6, 1.3, 'Versicolor'], [6.7, 3.1, 4.4, 1.4, 'Versicolor'], [5.6, 3.0, 4.5, 1.5, 'Versicolor'], [5.8, 2.7, 4.1, 1.0, 'Versicolor'], [6.2, 2.2, 4.5, 1.5, 'Versicolor'], [5.6, 2.5, 3.9, 1.1, 'Versicolor'], [5.9, 3.2, 4.8, 1.8, 'Versicolor'], [6.1, 2.8, 4.0, 1.3, 'Versicolor'], [6.3, 2.5, 4.9, 1.5, 'Versicolor'], [6.1, 2.8, 4.7, 1.2, 'Versicolor'], [6.4, 2.9, 4.3, 1.3, 'Versicolor'], [6.6, 3.0, 4.4, 1.4, 'Versicolor'], [6.8, 2.8, 4.8, 1.4, 'Versicolor'], [6.7, 3.0, 5.0, 1.7, 'Versicolor'], [6.0, 2.9, 4.5, 1.5, 'Versicolor'], [5.7, 2.6, 3.5, 1.0, 'Versicolor'], [5.5, 2.4, 3.8, 1.1, 'Versicolor'], [5.5, 2.4, 3.7, 1.0, 'Versicolor'], [5.8, 2.7, 3.9, 1.2, 'Versicolor'], [6.0, 2.7, 5.1, 1.6, 'Versicolor'], [5.4, 3.0, 4.5, 1.5, 'Versicolor'], [6.0, 3.4, 4.5, 1.6, 'Versicolor'], [6.7, 3.1, 4.7, 1.5, 'Versicolor'], [6.3, 2.3, 4.4, 1.3, 'Versicolor'], [5.6, 3.0, 4.1, 1.3, 'Versicolor'], [5.5, 2.5, 4.0, 1.3, 'Versicolor'], [5.5, 2.6, 4.4, 1.2, 'Versicolor'], [6.1, 3.0, 4.6, 1.4, 'Versicolor'], [5.8, 2.6, 4.0, 1.2, 'Versicolor'], [5.0, 2.3, 3.3, 1.0, 'Versicolor'], [5.6, 2.7, 4.2, 1.3, 'Versicolor'], [5.7, 3.0, 4.2, 1.2, 'Versicolor'], [5.7, 2.9, 4.2, 1.3, 'Versicolor'], [6.2, 2.9, 4.3, 1.3, 'Versicolor'], [5.1, 2.5, 3.0, 1.1, 'Versicolor'], [5.7, 2.8, 4.1, 1.3, 'Versicolor'], [6.3, 3.3, 6.0, 2.5, 'Virginica'], [5.8, 2.7, 5.1, 1.9, 'Virginica'], [7.1, 3.0, 5.9, 2.1, 'Virginica'], [6.3, 2.9, 5.6, 1.8, 'Virginica'], [6.5, 3.0, 5.8, 2.2, 'Virginica'], [7.6, 3.0, 6.6, 2.1, 'Virginica'], [4.9, 2.5, 4.5, 1.7, 'Virginica'], [7.3, 2.9, 6.3, 1.8, 'Virginica'], [6.7, 2.5, 5.8, 1.8, 'Virginica'], [7.2, 3.6, 6.1, 2.5, 'Virginica'], [6.5, 3.2, 5.1, 2.0, 'Virginica'], [6.4, 2.7, 5.3, 1.9, 'Virginica'], [6.8, 3.0, 5.5, 2.1, 'Virginica'], [5.7, 2.5, 5.0, 2.0, 'Virginica'], [5.8, 2.8, 5.1, 2.4, 'Virginica'], [6.4, 3.2, 5.3, 2.3, 'Virginica'], [6.5, 3.0, 5.5, 1.8, 'Virginica'], [7.7, 3.8, 6.7, 2.2, 'Virginica'], [7.7, 2.6, 6.9, 2.3, 'Virginica'], [6.0, 2.2, 5.0, 1.5, 'Virginica'], [6.9, 3.2, 5.7, 2.3, 'Virginica'], [5.6, 2.8, 4.9, 2.0, 'Virginica'], [7.7, 2.8, 6.7, 2.0, 'Virginica'], [6.3, 2.7, 4.9, 1.8, 'Virginica'], [6.7, 3.3, 5.7, 2.1, 'Virginica'], [7.2, 3.2, 6.0, 1.8, 'Virginica'], [6.2, 2.8, 4.8, 1.8, 'Virginica'], [6.1, 3.0, 4.9, 1.8, 'Virginica'], [6.4, 2.8, 5.6, 2.1, 'Virginica'], [7.2, 3.0, 5.8, 1.6, 'Virginica'], [7.4, 2.8, 6.1, 1.9, 'Virginica'], [7.9, 3.8, 6.4, 2.0, 'Virginica'], [6.4, 2.8, 5.6, 2.2, 'Virginica'], [6.3, 2.8, 5.1, 1.5, 'Virginica'], [6.1, 2.6, 5.6, 1.4, 'Virginica'], [7.7, 3.0, 6.1, 2.3, 'Virginica'], [6.3, 3.4, 5.6, 2.4, 'Virginica'], [6.4, 3.1, 5.5, 1.8, 'Virginica'], [6.0, 3.0, 4.8, 1.8, 'Virginica'], [6.9, 3.1, 5.4, 2.1, 'Virginica'], [6.7, 3.1, 5.6, 2.4, 'Virginica'], [6.9, 3.1, 5.1, 2.3, 'Virginica'], [5.8, 2.7, 5.1, 1.9, 'Virginica'], [6.8, 3.2, 5.9, 2.3, 'Virginica'], [6.7, 3.3, 5.7, 2.5, 'Virginica'], [6.7, 3.0, 5.2, 2.3, 'Virginica'], [6.3, 2.5, 5.0, 1.9, 'Virginica'], [6.5, 3.0, 5.2, 2.0, 'Virginica'], [6.2, 3.4, 5.4, 2.3, 'Virginica'], [5.9, 3.0, 5.1, 1.8, 'Virginica']]\n"
     ]
    }
   ],
   "source": [
    "import pandas as pd\n",
    "\n",
    "# Read the CSV file\n",
    "file_path = file_path = r\"C:\\Studying Documents\\Artificial intelligient\\Exercise\\Dataset\\Iris.csv\"\n",
    "df = pd.read_csv(file_path, encoding=\"utf-8\")\n",
    "\n",
    "# Convert the data frame into the list of rows\n",
    "data_list_full = []\n",
    "for i in range(len(df)):\n",
    "    data_list_full.append(df.loc[i, :].values.flatten().tolist())\n",
    "    \n",
    "print(data_list_full)"
   ]
  },
  {
   "cell_type": "markdown",
   "id": "fb4f1609",
   "metadata": {},
   "source": [
    "* As the KNN class that I developed is very modular and can automatically adapt to the different number of features input into the algorithm, we will directly check the result of the algorithm using new data point"
   ]
  },
  {
   "cell_type": "code",
   "execution_count": 13,
   "id": "ea064498",
   "metadata": {},
   "outputs": [
    {
     "name": "stdout",
     "output_type": "stream",
     "text": [
      "The group of the 3 new data is Setosa\n",
      "The group of the 4 new data is Virginica\n"
     ]
    }
   ],
   "source": [
    "new_data_3 = [4.7, 3, 2, 2.5]\n",
    "new_data_4 = [5.9, 3, 5.1, 1.8]\n",
    "print(\"The group of the 3 new data is\", knn.predictClassify(new_data_3, data_list_full))\n",
    "print(\"The group of the 4 new data is\", knn.predictClassify(new_data_4, data_list_full))"
   ]
  },
  {
   "cell_type": "code",
   "execution_count": 3,
   "id": "dfdd7c4d",
   "metadata": {},
   "outputs": [
    {
     "name": "stdout",
     "output_type": "stream",
     "text": [
      "['Setosa' 'Versicolor' 'Virginica']\n"
     ]
    }
   ],
   "source": [
    "class_name = df['variety'].unique()\n",
    "print(class_name)"
   ]
  },
  {
   "cell_type": "code",
   "execution_count": null,
   "id": "5dff69bd",
   "metadata": {},
   "outputs": [],
   "source": []
  }
 ],
 "metadata": {
  "kernelspec": {
   "display_name": "Python 3 (ipykernel)",
   "language": "python",
   "name": "python3"
  },
  "language_info": {
   "codemirror_mode": {
    "name": "ipython",
    "version": 3
   },
   "file_extension": ".py",
   "mimetype": "text/x-python",
   "name": "python",
   "nbconvert_exporter": "python",
   "pygments_lexer": "ipython3",
   "version": "3.11.4"
  }
 },
 "nbformat": 4,
 "nbformat_minor": 5
}
